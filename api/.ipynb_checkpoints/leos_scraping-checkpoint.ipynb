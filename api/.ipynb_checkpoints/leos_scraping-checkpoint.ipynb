{
 "cells": [
  {
   "cell_type": "code",
   "execution_count": 5,
   "metadata": {},
   "outputs": [],
   "source": [
    "import requests\n",
    "from bs4 import BeautifulSoup\n",
    "import bs4\n",
    "import pandas as pd\n",
    "import re\n",
    "from pprint import pprint\n",
    "from lxml import html\n",
    "from lxml.html import fromstring\n",
    "import urllib.request\n",
    "from urllib.request import Request, urlopen\n",
    "import random\n",
    "import scrapy\n",
    "import json"
   ]
  },
  {
   "cell_type": "code",
   "execution_count": 6,
   "metadata": {},
   "outputs": [],
   "source": [
    "# price, square meter, zipcod\n",
    "\n",
    "def get_price(items):\n",
    "    price = items.find('span', class_='text-250 text-strong text-nowrap').text \n",
    "    price = price[:-2]\n",
    "    return price\n",
    "\n",
    "def get_size(items):\n",
    "    size = items.find('p', class_='text-250 text-strong text-nowrap').text\n",
    "    size = size.replace('\\t','')\n",
    "    size = size.replace('\\n','')\n",
    "    size = size[:-2]\n",
    "    return size\n",
    "\n",
    "def get_both(items):\n",
    "  \n",
    "    return get_price(items) + ' ; ' + get_size(items)"
   ]
  },
  {
   "cell_type": "code",
   "execution_count": 138,
   "metadata": {},
   "outputs": [],
   "source": [
    "num = [2, 3, 4, 5, 6, 7, 8, 9, 10, 11, 22, 13, 14, 15, 16, 17, 18, 19, 20, 21, 22, 23, 24, 25, 26, 27, 28, 29, 30, 31, 32, 33, 34, 35, 36, 37, 38, 39, 40, 41, 42]\n",
    "full_list = []\n",
    "for i in num:\n",
    "    url1 = f\"https://www.immonet.de/berlin/wohnung-mieten-seite{i}.html\"\n",
    "    response1 = requests.get(url1)\n",
    "    soup1 = BeautifulSoup(response1.content, \"html.parser\")\n",
    "    objects = (soup.find_all('div', class_=\"bg-white item overflow-hidden\"))\n",
    "    pricelist += [get_both(x) for x in objects]\n",
    "    "
   ]
  },
  {
   "cell_type": "code",
   "execution_count": 140,
   "metadata": {},
   "outputs": [
    {
     "data": {
      "text/html": [
       "<div>\n",
       "<style scoped>\n",
       "    .dataframe tbody tr th:only-of-type {\n",
       "        vertical-align: middle;\n",
       "    }\n",
       "\n",
       "    .dataframe tbody tr th {\n",
       "        vertical-align: top;\n",
       "    }\n",
       "\n",
       "    .dataframe thead th {\n",
       "        text-align: right;\n",
       "    }\n",
       "</style>\n",
       "<table border=\"1\" class=\"dataframe\">\n",
       "  <thead>\n",
       "    <tr style=\"text-align: right;\">\n",
       "      <th></th>\n",
       "      <th>0</th>\n",
       "    </tr>\n",
       "  </thead>\n",
       "  <tbody>\n",
       "    <tr>\n",
       "      <th>0</th>\n",
       "      <td>1.435,07 ; 78.85</td>\n",
       "    </tr>\n",
       "    <tr>\n",
       "      <th>1</th>\n",
       "      <td>532,17 ; 89.44</td>\n",
       "    </tr>\n",
       "    <tr>\n",
       "      <th>2</th>\n",
       "      <td>1.477 ; 118.17</td>\n",
       "    </tr>\n",
       "    <tr>\n",
       "      <th>3</th>\n",
       "      <td>656 ; 52.5</td>\n",
       "    </tr>\n",
       "    <tr>\n",
       "      <th>4</th>\n",
       "      <td>535 ; 53.0</td>\n",
       "    </tr>\n",
       "    <tr>\n",
       "      <th>...</th>\n",
       "      <td>...</td>\n",
       "    </tr>\n",
       "    <tr>\n",
       "      <th>1020</th>\n",
       "      <td>420,40 ; 42.4</td>\n",
       "    </tr>\n",
       "    <tr>\n",
       "      <th>1021</th>\n",
       "      <td>218,41 ; 36.29</td>\n",
       "    </tr>\n",
       "    <tr>\n",
       "      <th>1022</th>\n",
       "      <td>433,62 ; 60.72</td>\n",
       "    </tr>\n",
       "    <tr>\n",
       "      <th>1023</th>\n",
       "      <td>1.132,34 ; 62.0</td>\n",
       "    </tr>\n",
       "    <tr>\n",
       "      <th>1024</th>\n",
       "      <td>530,21 ; 68.08</td>\n",
       "    </tr>\n",
       "  </tbody>\n",
       "</table>\n",
       "<p>1025 rows × 1 columns</p>\n",
       "</div>"
      ],
      "text/plain": [
       "                     0\n",
       "0     1.435,07 ; 78.85\n",
       "1       532,17 ; 89.44\n",
       "2       1.477 ; 118.17\n",
       "3           656 ; 52.5\n",
       "4           535 ; 53.0\n",
       "...                ...\n",
       "1020     420,40 ; 42.4\n",
       "1021    218,41 ; 36.29\n",
       "1022    433,62 ; 60.72\n",
       "1023   1.132,34 ; 62.0\n",
       "1024    530,21 ; 68.08\n",
       "\n",
       "[1025 rows x 1 columns]"
      ]
     },
     "execution_count": 140,
     "metadata": {},
     "output_type": "execute_result"
    }
   ],
   "source": [
    "df = pd.DataFrame(pricelist)\n",
    "df"
   ]
  },
  {
   "cell_type": "code",
   "execution_count": null,
   "metadata": {},
   "outputs": [],
   "source": [
    "def object_details_links(links):\n",
    "    links_str = str(links)\n",
    "    links_str = links_str.replace('href=\"','')  \n",
    "    hrefs = re.findall('\\/angebot\\/\\d{6,9}', links_str)\n",
    "    hrefs = set(hrefs)\n",
    "    base_url_details = \"https://www.immonet.de\"\n",
    "    full_url_details = [base_url_details + i for i in hrefs]\n",
    "    return full_url_details"
   ]
  },
  {
   "cell_type": "code",
   "execution_count": 33,
   "metadata": {},
   "outputs": [],
   "source": [
    "num = [1, 2, 3, 4, 5, 6, 7, 8, 9, 10, 11, 22, 13, 14, 15, 16, 17, 18, 19, 20, 21, 22, 23, 24, 25, 26, 27, 28, 29, 30, 31, 32, 33, 34, 35, 36, 37, 38, 39, 40, 41, 42]\n",
    "full_list = []\n",
    "for i in num:\n",
    "    url = f\"https://www.immonet.de/berlin/wohnung-mieten-seite{i}.html\"\n",
    "    response = requests.get(url)\n",
    "    soup = BeautifulSoup(response.content, \"html.parser\")\n",
    "    links = (soup.find_all('a', class_=\"flex-grow-1 display-flex\"))\n",
    "    x = object_details_links(links)\n",
    "    full_list += x\n"
   ]
  },
  {
   "cell_type": "code",
   "execution_count": 35,
   "metadata": {},
   "outputs": [
    {
     "data": {
      "text/plain": [
       "1072"
      ]
     },
     "execution_count": 35,
     "metadata": {},
     "output_type": "execute_result"
    }
   ],
   "source": [
    "len(full_list)"
   ]
  },
  {
   "cell_type": "code",
   "execution_count": 52,
   "metadata": {},
   "outputs": [
    {
     "name": "stdout",
     "output_type": "stream",
     "text": [
      "Zentral Wohnen in modernisierter Wohnanlage\n"
     ]
    }
   ],
   "source": [
    "# parse a single real estate object\n",
    "url = 'https://www.immonet.de/angebot/41660626'\n",
    "response = requests.get(url)\n",
    "soup = BeautifulSoup(response.content, \"html.parser\")\n",
    "    \n"
   ]
  },
  {
   "cell_type": "code",
   "execution_count": 98,
   "metadata": {},
   "outputs": [],
   "source": [
    "description = (soup.find('h1', id=\"expose-headline\").text)\n",
    "description = description.replace('.',\"\")\n",
    "description = description.strip()"
   ]
  },
  {
   "cell_type": "code",
   "execution_count": 97,
   "metadata": {},
   "outputs": [],
   "source": [
    "# ?? how can i devide the adress\n",
    "adress = (soup.find('p', class_=\"text-100 pull-left\").text)\n",
    "adress = adress.replace('\\t','')\n",
    "adress = adress.replace('\\n',' ')\n",
    "adress = adress.replace('\\xa0','')\n",
    "adress = adress.replace('Auf Karte anzeigen','')\n",
    "adress = adress.strip() "
   ]
  },
  {
   "cell_type": "code",
   "execution_count": 99,
   "metadata": {},
   "outputs": [],
   "source": [
    "zip = [int(s) for s in adress.split() if s.isdigit()]\n",
    "zip = str(zip[1])"
   ]
  },
  {
   "cell_type": "code",
   "execution_count": 78,
   "metadata": {},
   "outputs": [
    {
     "data": {
      "text/plain": [
       "'350.11'"
      ]
     },
     "execution_count": 78,
     "metadata": {},
     "output_type": "execute_result"
    }
   ],
   "source": [
    "# ?? how do i clean the price\n",
    "price_cold = (soup.find('div', id=\"priceid_2\").text)\n",
    "price_cold = price_cold.strip()\n",
    "price_cold = price_cold.replace('\\xa0€','')\n",
    "price_cold"
   ]
  },
  {
   "cell_type": "code",
   "execution_count": 77,
   "metadata": {},
   "outputs": [
    {
     "data": {
      "text/plain": [
       "'471.11'"
      ]
     },
     "execution_count": 77,
     "metadata": {},
     "output_type": "execute_result"
    }
   ],
   "source": [
    "price_warm = (soup.find('div', id='priceid_4').text)\n",
    "price_warm = price_warm.strip()\n",
    "price_warm = price_warm.replace('\\xa0€','')\n",
    "price_warm"
   ]
  },
  {
   "cell_type": "code",
   "execution_count": 74,
   "metadata": {},
   "outputs": [
    {
     "data": {
      "text/plain": [
       "'987.33'"
      ]
     },
     "execution_count": 74,
     "metadata": {},
     "output_type": "execute_result"
    }
   ],
   "source": [
    "caution = (soup.find('div', id='priceid_19').text)\n",
    "caution = caution.strip()\n",
    "caution = caution.replace('\\xa0€','')\n",
    "caution"
   ]
  },
  {
   "cell_type": "code",
   "execution_count": 69,
   "metadata": {},
   "outputs": [
    {
     "data": {
      "text/plain": [
       "'2.0'"
      ]
     },
     "execution_count": 69,
     "metadata": {},
     "output_type": "execute_result"
    }
   ],
   "source": [
    "rooms = (soup.find('div', id='equipmentid_1').text)\n",
    "rooms = rooms.strip()\n",
    "rooms"
   ]
  },
  {
   "cell_type": "code",
   "execution_count": 76,
   "metadata": {},
   "outputs": [
    {
     "data": {
      "text/plain": [
       "'54.13'"
      ]
     },
     "execution_count": 76,
     "metadata": {},
     "output_type": "execute_result"
    }
   ],
   "source": [
    "area = (soup.find('div', id='areaid_1').text)\n",
    "area = area.strip()\n",
    "area = area.replace('\\xa0m²','')\n",
    "area"
   ]
  },
  {
   "cell_type": "code",
   "execution_count": 71,
   "metadata": {},
   "outputs": [
    {
     "data": {
      "text/plain": [
       "'1956'"
      ]
     },
     "execution_count": 71,
     "metadata": {},
     "output_type": "execute_result"
    }
   ],
   "source": [
    "yearbuild = (soup.find('div', id='yearbuild').text)\n",
    "yearbuild = yearbuild.strip()\n",
    "yearbuild"
   ]
  },
  {
   "cell_type": "code",
   "execution_count": 105,
   "metadata": {},
   "outputs": [
    {
     "data": {
      "text/plain": [
       "89.44"
      ]
     },
     "execution_count": 105,
     "metadata": {},
     "output_type": "execute_result"
    }
   ],
   "source": [
    "size = objects[0].find('p', class_='text-250 text-strong text-nowrap').text\n",
    "size = size.replace('\\t','')\n",
    "size = size.replace('\\n','')\n",
    "size = size[:-2]\n",
    "size = float(size)\n",
    "size"
   ]
  },
  {
   "cell_type": "code",
   "execution_count": 106,
   "metadata": {},
   "outputs": [],
   "source": [
    "# functions used to retrieve the relevant data such as:\n"
   ]
  },
  {
   "cell_type": "code",
   "execution_count": 131,
   "metadata": {},
   "outputs": [
    {
     "data": {
      "text/plain": [
       "list"
      ]
     },
     "execution_count": 131,
     "metadata": {},
     "output_type": "execute_result"
    }
   ],
   "source": [
    "x = [get_size(x) for x in objects]\n",
    "type(x[0])"
   ]
  },
  {
   "cell_type": "code",
   "execution_count": 108,
   "metadata": {},
   "outputs": [
    {
     "data": {
      "text/plain": [
       "['532,17',\n",
       " '1.477',\n",
       " '656',\n",
       " '535',\n",
       " '504,10',\n",
       " '1.350',\n",
       " '773',\n",
       " '687,22',\n",
       " '1.800',\n",
       " '1.085,04',\n",
       " '1.310',\n",
       " '1.866',\n",
       " '735,84',\n",
       " '690,91',\n",
       " '1.114',\n",
       " '383,04',\n",
       " '491,88',\n",
       " '1.100',\n",
       " '254,34',\n",
       " '420,40',\n",
       " '218,41',\n",
       " '433,62',\n",
       " '1.132,34',\n",
       " '530,21',\n",
       " '218,41']"
      ]
     },
     "execution_count": 108,
     "metadata": {},
     "output_type": "execute_result"
    }
   ],
   "source": [
    "[get_price(x) for x in objects]"
   ]
  },
  {
   "cell_type": "code",
   "execution_count": 109,
   "metadata": {},
   "outputs": [],
   "source": [
    "list = [get_both(x) for x in objects]"
   ]
  },
  {
   "cell_type": "code",
   "execution_count": 111,
   "metadata": {},
   "outputs": [
    {
     "data": {
      "text/plain": [
       "list"
      ]
     },
     "execution_count": 111,
     "metadata": {},
     "output_type": "execute_result"
    }
   ],
   "source": [
    "type(list)"
   ]
  },
  {
   "cell_type": "code",
   "execution_count": null,
   "metadata": {},
   "outputs": [],
   "source": []
  }
 ],
 "metadata": {
  "kernelspec": {
   "display_name": "Python 3",
   "language": "python",
   "name": "python3"
  },
  "language_info": {
   "codemirror_mode": {
    "name": "ipython",
    "version": 3
   },
   "file_extension": ".py",
   "mimetype": "text/x-python",
   "name": "python",
   "nbconvert_exporter": "python",
   "pygments_lexer": "ipython3",
   "version": "3.8.5"
  }
 },
 "nbformat": 4,
 "nbformat_minor": 4
}
