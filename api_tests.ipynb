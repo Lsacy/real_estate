{
 "cells": [
  {
   "cell_type": "code",
   "execution_count": 1,
   "metadata": {},
   "outputs": [
    {
     "data": {
      "text/plain": [
       "[\"'key' is not recognized as an internal or external command,\",\n",
       " 'operable program or batch file.']"
      ]
     },
     "execution_count": 1,
     "metadata": {},
     "output_type": "execute_result"
    }
   ],
   "source": [
    "\"\"\"\n",
    "system key / consumer key = CheckValuekey\n",
    "API Secret / Consumer Secret = bERNramztRgSqtfX\n",
    "Sandbox API Secret / Consumer Secret / apitoken~ = H4yv8fCSHcNDbsRp\n",
    "Sandbox User Email = is24_tuv_106934263_08913@test.com\n",
    "Sandbox User Password = Tuvtestuser14460063\n",
    "\"\"\""
   ]
  },
  {
   "cell_type": "code",
   "execution_count": 12,
   "metadata": {},
   "outputs": [
    {
     "ename": "ModuleNotFoundError",
     "evalue": "No module named 'requests_oauthlib'",
     "output_type": "error",
     "traceback": [
      "\u001b[1;31m---------------------------------------------------------------------------\u001b[0m",
      "\u001b[1;31mModuleNotFoundError\u001b[0m                       Traceback (most recent call last)",
      "\u001b[1;32m<ipython-input-12-4e98c7368291>\u001b[0m in \u001b[0;36m<module>\u001b[1;34m\u001b[0m\n\u001b[0;32m      1\u001b[0m \u001b[1;32mimport\u001b[0m \u001b[0mrequests\u001b[0m\u001b[1;33m,\u001b[0m \u001b[0mjson\u001b[0m\u001b[1;33m\u001b[0m\u001b[1;33m\u001b[0m\u001b[0m\n\u001b[0;32m      2\u001b[0m \u001b[1;31m# from oauthlib.oauth1a import client\u001b[0m\u001b[1;33m\u001b[0m\u001b[1;33m\u001b[0m\u001b[1;33m\u001b[0m\u001b[0m\n\u001b[1;32m----> 3\u001b[1;33m \u001b[1;32mfrom\u001b[0m \u001b[0mrequests_oauthlib\u001b[0m \u001b[1;32mimport\u001b[0m \u001b[0mOAuth1\u001b[0m\u001b[1;33m\u001b[0m\u001b[1;33m\u001b[0m\u001b[0m\n\u001b[0m",
      "\u001b[1;31mModuleNotFoundError\u001b[0m: No module named 'requests_oauthlib'"
     ]
    }
   ],
   "source": [
    "import requests, json\n",
    "# from oauthlib.oauth1a import client\n",
    "from requests_oauthlib import OAuth1"
   ]
  },
  {
   "cell_type": "code",
   "execution_count": 8,
   "metadata": {},
   "outputs": [],
   "source": [
    "url = 'https://rest.immobilienscout24.de/restapi/api/...'"
   ]
  },
  {
   "cell_type": "code",
   "execution_count": 11,
   "metadata": {},
   "outputs": [
    {
     "data": {
      "text/plain": [
       "\" response 401 - not authorized\\nconsumer_key = 'CheckValuekey'\\n\\nPARAMS = {'consumer_key': consumer_key}\\n\\nr = requests.get(url=url, params=PARAMS)\\n\\nprint(r)\\n\""
      ]
     },
     "execution_count": 11,
     "metadata": {},
     "output_type": "execute_result"
    }
   ],
   "source": [
    "\"\"\" response 401 - not authorized\n",
    "consumer_key = 'CheckValuekey'\n",
    "\n",
    "PARAMS = {'consumer_key': consumer_key}\n",
    "\n",
    "r = requests.get(url=url, params=PARAMS)\n",
    "\n",
    "print(r)\n",
    "\"\"\""
   ]
  },
  {
   "cell_type": "code",
   "execution_count": null,
   "metadata": {},
   "outputs": [],
   "source": [
    "oauth_consumer_key = 'CheckValuekey'\n",
    "consumer_Secret = 'bERNramztRgSqtfX'\n",
    "url = 'https://rest.immobilienscout24.de/restapi/api/...'\n",
    "\n",
    "oauth_nonce\n",
    "oauth_timestamp\n",
    "oauth_signature\n",
    "oauth_signature_method\n",
    "oauth_version = 1.0"
   ]
  }
 ],
 "metadata": {
  "kernelspec": {
   "display_name": "Python 3",
   "language": "python",
   "name": "python3"
  },
  "language_info": {
   "codemirror_mode": {
    "name": "ipython",
    "version": 3
   },
   "file_extension": ".py",
   "mimetype": "text/x-python",
   "name": "python",
   "nbconvert_exporter": "python",
   "pygments_lexer": "ipython3",
   "version": "3.8.5"
  }
 },
 "nbformat": 4,
 "nbformat_minor": 4
}
