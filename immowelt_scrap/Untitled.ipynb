{
 "cells": [
  {
   "cell_type": "code",
   "execution_count": 1,
   "metadata": {},
   "outputs": [],
   "source": [
    "import requests\n",
    "from bs4 import BeautifulSoup\n",
    "import bs4\n",
    "import pandas as pd\n",
    "import re\n",
    "from pprint import pprint\n",
    "from lxml import html\n",
    "from lxml.html import fromstring\n",
    "import urllib.request\n",
    "from urllib.request import Request, urlopen\n",
    "import random\n",
    "import scrapy\n",
    "import json"
   ]
  },
  {
   "cell_type": "code",
   "execution_count": null,
   "metadata": {},
   "outputs": [],
   "source": [
    "# price, square meter, zipcod\n",
    "\n",
    "def get_price(items):\n",
    "    price = items.find('span', class_='text-250 text-strong text-nowrap').text \n",
    "    price = price[:-2]\n",
    "    return price\n",
    "\n",
    "def get_size(items):\n",
    "    size = items.find('p', class_='text-250 text-strong text-nowrap').text\n",
    "    size = size.replace('\\t','')\n",
    "    size = size.replace('\\n','')\n",
    "    size = size[:-2]\n",
    "    return size\n",
    "\n",
    "def get_both(items):\n",
    "  \n",
    "    return get_price(items) + ' ; ' + get_size(items)"
   ]
  },
  {
   "cell_type": "code",
   "execution_count": 47,
   "metadata": {},
   "outputs": [],
   "source": [
    "url = 'https://www.immowelt.de/liste/berlin/wohnungen/mieten?sort=createdate%20desc&cp=1'\n",
    "response = requests.get(url)\n",
    "soup = BeautifulSoup(response.content, 'html.parser')"
   ]
  },
  {
   "cell_type": "code",
   "execution_count": 40,
   "metadata": {},
   "outputs": [],
   "source": [
    "objects = (soup.find_all('div', attrs= {'data-estateid':True}))"
   ]
  },
  {
   "cell_type": "code",
   "execution_count": 41,
   "metadata": {},
   "outputs": [
    {
     "data": {
      "text/plain": [
       "4"
      ]
     },
     "execution_count": 41,
     "metadata": {},
     "output_type": "execute_result"
    }
   ],
   "source": [
    "len(objects)"
   ]
  },
  {
   "cell_type": "code",
   "execution_count": 52,
   "metadata": {},
   "outputs": [],
   "source": [
    "objects2 = (soup.body.find('div', class_='modern_browser'))"
   ]
  },
  {
   "cell_type": "code",
   "execution_count": null,
   "metadata": {},
   "outputs": [],
   "source": [
    "  \"\"\" .find('div', class_='navigation_static')\n",
    "            .find('div', class_=\"basecontainer\")\n",
    "            .find('div', class_='immoliste')\n",
    "            .find('div', class_='content_wrapper')\n",
    "            .find('div', class_='iw_content js-projectStatisticHandler')\n",
    "            .find('div', class_='list_background_wrapper'))\"\"\"   \n",
    "    \n",
    "    # .find_all('div', attrs= {'data-estateid':True})"
   ]
  },
  {
   "cell_type": "code",
   "execution_count": null,
   "metadata": {},
   "outputs": [],
   "source": []
  }
 ],
 "metadata": {
  "kernelspec": {
   "display_name": "Python 3",
   "language": "python",
   "name": "python3"
  },
  "language_info": {
   "codemirror_mode": {
    "name": "ipython",
    "version": 3
   },
   "file_extension": ".py",
   "mimetype": "text/x-python",
   "name": "python",
   "nbconvert_exporter": "python",
   "pygments_lexer": "ipython3",
   "version": "3.8.5"
  }
 },
 "nbformat": 4,
 "nbformat_minor": 4
}
