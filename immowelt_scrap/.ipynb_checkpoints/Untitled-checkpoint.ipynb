{
 "cells": [
  {
   "cell_type": "code",
   "execution_count": null,
   "metadata": {},
   "outputs": [],
   "source": [
    "import requests\n",
    "from bs4 import BeautifulSoup\n",
    "import bs4\n",
    "import pandas as pd\n",
    "import re\n",
    "from pprint import pprint\n",
    "from lxml import html\n",
    "from lxml.html import fromstring\n",
    "import urllib.request\n",
    "from urllib.request import Request, urlopen\n",
    "import random\n",
    "import scrapy\n",
    "import json"
   ]
  },
  {
   "cell_type": "code",
   "execution_count": null,
   "metadata": {},
   "outputs": [],
   "source": [
    "# price, square meter, zipcod\n",
    "\n",
    "def get_price(items):\n",
    "    price = items.find('span', class_='text-250 text-strong text-nowrap').text \n",
    "    price = price[:-2]\n",
    "    return price\n",
    "\n",
    "def get_size(items):\n",
    "    size = items.find('p', class_='text-250 text-strong text-nowrap').text\n",
    "    size = size.replace('\\t','')\n",
    "    size = size.replace('\\n','')\n",
    "    size = size[:-2]\n",
    "    return size\n",
    "\n",
    "def get_both(items):\n",
    "  \n",
    "    return get_price(items) + ' ; ' + get_size(items)"
   ]
  },
  {
   "cell_type": "code",
   "execution_count": null,
   "metadata": {},
   "outputs": [],
   "source": [
    "url = 'https://www.immowelt.de/liste/berlin/wohnungen/mieten?sort=createdate%20desc&cp=1'\n",
    "response = requests.get(url)\n",
    "soup = BeautifulSoup(response.content, 'html.parser')"
   ]
  },
  {
   "cell_type": "code",
   "execution_count": null,
   "metadata": {},
   "outputs": [],
   "source": [
    "objects = (soup.find_all('data-estateid'))"
   ]
  },
  {
   "cell_type": "code",
   "execution_count": null,
   "metadata": {},
   "outputs": [],
   "source": [
    "objects"
   ]
  },
  {
   "cell_type": "code",
   "execution_count": null,
   "metadata": {},
   "outputs": [],
   "source": []
  }
 ],
 "metadata": {
  "kernelspec": {
   "display_name": "Python 3",
   "language": "python",
   "name": "python3"
  },
  "language_info": {
   "codemirror_mode": {
    "name": "ipython",
    "version": 3
   },
   "file_extension": ".py",
   "mimetype": "text/x-python",
   "name": "python",
   "nbconvert_exporter": "python",
   "pygments_lexer": "ipython3",
   "version": "3.8.5"
  }
 },
 "nbformat": 4,
 "nbformat_minor": 4
}
