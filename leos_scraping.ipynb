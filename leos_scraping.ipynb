{
 "cells": [
  {
   "cell_type": "code",
   "execution_count": 5,
   "metadata": {},
   "outputs": [],
   "source": [
    "import requests\n",
    "from bs4 import BeautifulSoup\n",
    "import bs4\n",
    "import pandas as pd\n",
    "import re\n",
    "from pprint import pprint\n",
    "from lxml import html\n",
    "from lxml.html import fromstring\n",
    "import urllib.request\n",
    "from urllib.request import Request, urlopen\n",
    "import random\n",
    "import scrapy"
   ]
  },
  {
   "cell_type": "code",
   "execution_count": 30,
   "metadata": {},
   "outputs": [],
   "source": [
    "url = 'https://www.immonet.de/berlin/wohnung-mieten-seite1.html'"
   ]
  },
  {
   "cell_type": "code",
   "execution_count": 31,
   "metadata": {},
   "outputs": [
    {
     "data": {
      "text/plain": [
       "200"
      ]
     },
     "execution_count": 31,
     "metadata": {},
     "output_type": "execute_result"
    }
   ],
   "source": [
    "# using requests for retrieving the html file and check for validity\n",
    "r = requests.get(url)\n",
    "r.status_code"
   ]
  },
  {
   "cell_type": "code",
   "execution_count": 32,
   "metadata": {},
   "outputs": [],
   "source": [
    "# using beautifulSoup to parse the file in order to retrieve the relevant data\n",
    "soup = bs4.BeautifulSoup(r.content, 'html.parser')"
   ]
  },
  {
   "cell_type": "code",
   "execution_count": 37,
   "metadata": {},
   "outputs": [],
   "source": [
    "# price, square meter, zipcod\n",
    "\n",
    "def get_price(items):\n",
    "        price = items.find('span', class_='text-250 text-strong text-nowrap').text \n",
    "        price = price[:-2]\n",
    "        return price\n",
    "\n",
    "def get_size(items):\n",
    "        size = items.find('p', class_='text-250 text-strong text-nowrap').text\n",
    "        size = size.replace('\\t','')\n",
    "        size = size.replace('\\n','')\n",
    "        size = size[:-2]\n",
    "        return size\n",
    "\n",
    "def get_both(items):\n",
    "    return get_price(items) + ' ; ' + get_size(items)"
   ]
  },
  {
   "cell_type": "code",
   "execution_count": 42,
   "metadata": {},
   "outputs": [],
   "source": [
    "num = [1, 2, 3, 4, 5, 6, 7, 8, 9, 10, 11, 22, 13, 14, 15, 16, 17, 18, 19, 20, 21, 22, 23, 24, 25, 26, 27, 28, 29, 30, 31, 32, 33, 34, 35, 36, 37, 38, 39, 40, 41, 42]\n",
    "all_pages_list = []\n",
    "fullist =[]\n",
    "for i in num:\n",
    "    try:\n",
    "        url = f\"https://www.immonet.de/berlin/wohnung-mieten-seite{i}.html\"\n",
    "        response = requests.get(url)\n",
    "        soup = BeautifulSoup(response.content, \"html.parser\")\n",
    "        objects = (soup.find_all('div', class_=\"bg-white item overflow-hidden\"))\n",
    "        fullist += [get_both(i) for i in objects]\n",
    "    except AttributeError:\n",
    "        continue\n",
    "\n",
    "#single_page_list = [get_both(x) for x in objects]\n",
    "#all_pages_list.append(single_page_list)"
   ]
  },
  {
   "cell_type": "code",
   "execution_count": 52,
   "metadata": {},
   "outputs": [],
   "source": [
    "fullist = set(fullist)\n"
   ]
  },
  {
   "cell_type": "code",
   "execution_count": 54,
   "metadata": {},
   "outputs": [
    {
     "data": {
      "text/plain": [
       "757"
      ]
     },
     "execution_count": 54,
     "metadata": {},
     "output_type": "execute_result"
    }
   ],
   "source": [
    "len(fullist)"
   ]
  },
  {
   "cell_type": "code",
   "execution_count": 55,
   "metadata": {},
   "outputs": [
    {
     "data": {
      "text/html": [
       "<div>\n",
       "<style scoped>\n",
       "    .dataframe tbody tr th:only-of-type {\n",
       "        vertical-align: middle;\n",
       "    }\n",
       "\n",
       "    .dataframe tbody tr th {\n",
       "        vertical-align: top;\n",
       "    }\n",
       "\n",
       "    .dataframe thead th {\n",
       "        text-align: right;\n",
       "    }\n",
       "</style>\n",
       "<table border=\"1\" class=\"dataframe\">\n",
       "  <thead>\n",
       "    <tr style=\"text-align: right;\">\n",
       "      <th></th>\n",
       "      <th>0</th>\n",
       "    </tr>\n",
       "  </thead>\n",
       "  <tbody>\n",
       "    <tr>\n",
       "      <th>0</th>\n",
       "      <td>470 ; 56.85</td>\n",
       "    </tr>\n",
       "    <tr>\n",
       "      <th>1</th>\n",
       "      <td>720 ; 95.13</td>\n",
       "    </tr>\n",
       "    <tr>\n",
       "      <th>2</th>\n",
       "      <td>1.870 ; 75.0</td>\n",
       "    </tr>\n",
       "    <tr>\n",
       "      <th>3</th>\n",
       "      <td>1.699,28 ; 108.58</td>\n",
       "    </tr>\n",
       "    <tr>\n",
       "      <th>4</th>\n",
       "      <td>879 ; 64.0</td>\n",
       "    </tr>\n",
       "    <tr>\n",
       "      <th>...</th>\n",
       "      <td>...</td>\n",
       "    </tr>\n",
       "    <tr>\n",
       "      <th>752</th>\n",
       "      <td>640 ; 102.97</td>\n",
       "    </tr>\n",
       "    <tr>\n",
       "      <th>753</th>\n",
       "      <td>1.310 ; 93.4</td>\n",
       "    </tr>\n",
       "    <tr>\n",
       "      <th>754</th>\n",
       "      <td>510 ; 64.19</td>\n",
       "    </tr>\n",
       "    <tr>\n",
       "      <th>755</th>\n",
       "      <td>822 ; 59.0</td>\n",
       "    </tr>\n",
       "    <tr>\n",
       "      <th>756</th>\n",
       "      <td>1.650 ; 73.0</td>\n",
       "    </tr>\n",
       "  </tbody>\n",
       "</table>\n",
       "<p>757 rows × 1 columns</p>\n",
       "</div>"
      ],
      "text/plain": [
       "                     0\n",
       "0          470 ; 56.85\n",
       "1          720 ; 95.13\n",
       "2         1.870 ; 75.0\n",
       "3    1.699,28 ; 108.58\n",
       "4           879 ; 64.0\n",
       "..                 ...\n",
       "752       640 ; 102.97\n",
       "753       1.310 ; 93.4\n",
       "754        510 ; 64.19\n",
       "755         822 ; 59.0\n",
       "756       1.650 ; 73.0\n",
       "\n",
       "[757 rows x 1 columns]"
      ]
     },
     "execution_count": 55,
     "metadata": {},
     "output_type": "execute_result"
    }
   ],
   "source": [
    "df = pd.DataFrame(fullist)\n",
    "df"
   ]
  },
  {
   "cell_type": "code",
   "execution_count": 6,
   "metadata": {},
   "outputs": [],
   "source": [
    "# price, square meter, zipcod\n",
    "\n",
    "def get_price(items):\n",
    "        price = items.find('span', class_='text-250 text-strong text-nowrap').text \n",
    "        price = price[:-2]\n",
    "        return price\n",
    "\n",
    "def get_size(items):\n",
    "        size = items.find('p', class_='text-250 text-strong text-nowrap').text\n",
    "        size = size.replace('\\t','')\n",
    "        size = size.replace('\\n','')\n",
    "        size = size[:-2]\n",
    "        return size\n",
    "\n",
    "def get_both(items):\n",
    "    return get_price(items) + ' ; ' + get_size(items)"
   ]
  },
  {
   "cell_type": "code",
   "execution_count": 8,
   "metadata": {},
   "outputs": [],
   "source": [
    "url = 'https://www.immonet.de/berlin/wohnung-mieten-seite1.html'\n",
    "response = requests.get(url)\n",
    "soup = BeautifulSoup(response.content, \"html.parser\")\n",
    "objects = (soup.find_all('div', class_=\"bg-white item overflow-hidden\"))\n",
    "singlelist = [get_both(i) for i in objects]"
   ]
  },
  {
   "cell_type": "code",
   "execution_count": 9,
   "metadata": {},
   "outputs": [
    {
     "data": {
      "text/plain": [
       "['650 ; 65.0',\n",
       " '437,18 ; 53.26',\n",
       " '350 ; 29.19',\n",
       " '257,14 ; 34.2',\n",
       " '1.126,14 ; 98.0',\n",
       " '584,95 ; 72.09',\n",
       " '655,20 ; 60.0',\n",
       " '1.270 ; 106.0',\n",
       " '900 ; 50.35',\n",
       " '1.650 ; 126.7',\n",
       " '1.270 ; 43.71',\n",
       " '729 ; 28.9',\n",
       " '1.050 ; 43.55',\n",
       " '699 ; 36.0',\n",
       " '622 ; 26.0',\n",
       " '975 ; 75.0',\n",
       " '244,04 ; 41.11',\n",
       " '795 ; 30.0',\n",
       " '1.149 ; 63.0',\n",
       " '1.749 ; 120.0',\n",
       " '649 ; 22.35',\n",
       " '949 ; 29.95',\n",
       " '1.207 ; 46.75',\n",
       " '1.207 ; 46.5',\n",
       " '670 ; 30.0',\n",
       " '1.249 ; 43.0']"
      ]
     },
     "execution_count": 9,
     "metadata": {},
     "output_type": "execute_result"
    }
   ],
   "source": [
    "singlelist"
   ]
  },
  {
   "cell_type": "code",
   "execution_count": null,
   "metadata": {},
   "outputs": [],
   "source": []
  }
 ],
 "metadata": {
  "kernelspec": {
   "display_name": "Python 3",
   "language": "python",
   "name": "python3"
  },
  "language_info": {
   "codemirror_mode": {
    "name": "ipython",
    "version": 3
   },
   "file_extension": ".py",
   "mimetype": "text/x-python",
   "name": "python",
   "nbconvert_exporter": "python",
   "pygments_lexer": "ipython3",
   "version": "3.8.5"
  }
 },
 "nbformat": 4,
 "nbformat_minor": 4
}
